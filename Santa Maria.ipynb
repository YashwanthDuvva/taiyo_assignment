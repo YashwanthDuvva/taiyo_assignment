{
 "cells": [
  {
   "cell_type": "code",
   "execution_count": 108,
   "metadata": {},
   "outputs": [],
   "source": [
    "import requests\n",
    "from bs4 import BeautifulSoup"
   ]
  },
  {
   "cell_type": "code",
   "execution_count": 109,
   "metadata": {},
   "outputs": [],
   "source": [
    "import pandas as pd"
   ]
  },
  {
   "cell_type": "code",
   "execution_count": 125,
   "metadata": {},
   "outputs": [],
   "source": [
    "url = 'https://www.santamariagroup.com/projects'\n",
    "responds = requests.get(url)\n",
    "soup = BeautifulSoup(responds.text, 'html.parser' )"
   ]
  },
  {
   "cell_type": "code",
   "execution_count": 127,
   "metadata": {},
   "outputs": [],
   "source": [
    "sections = soup.find_all('section', class_ = 'page-section')[1:17]"
   ]
  },
  {
   "cell_type": "code",
   "execution_count": 128,
   "metadata": {},
   "outputs": [],
   "source": [
    "data1 = []\n",
    "for section in sections:\n",
    "    title=section.find('h3').text.strip()\n",
    "    # location = section.find_all('p')[1].text.strip()\n",
    "    # print(location)\n",
    "    data1.append(title)"
   ]
  },
  {
   "cell_type": "code",
   "execution_count": 129,
   "metadata": {},
   "outputs": [],
   "source": [
    "location_elements = soup.find_all(['p', 'span'])\n",
    "data2 = []\n",
    "for location_element in location_elements:\n",
    "        if \"Location:\" in location_element.text:  # Assuming the location is preceded by the word \"Location:\"\n",
    "            location = location_element.text.replace(\"Location:\", \"\").strip()\n",
    "            data2.append(location)"
   ]
  },
  {
   "cell_type": "code",
   "execution_count": 132,
   "metadata": {},
   "outputs": [
    {
     "name": "stdout",
     "output_type": "stream",
     "text": [
      "[('All Nations Church', 'Tujunga, California'), ('Alta Public Schools', 'Scattered Sites Located In Council Districts 1, 9 And 10.'), ('Columbia Apartments', 'Los Angeles, California'), ('Doheny Eye Institute', 'Hollywood California'), ('Emerson College - West Coast Campus', 'Los Angeles, California'), ('Little Tokyo Towers', 'Los Angeles, California'), ('Olympic on Hoover Development', 'Sherman Oaks, Council District 4'), ('Orangewood Court Apartments – Value Housing', 'Pacoima, California'), ('Pierce Park Apartments', 'Los Angeles, California'), ('Rosewood Gardens', 'Wilshire Westlake Area Of Los Angeles: 7th And Westmoreland'), ('Southwestern Law School', 'Los Angeles, California'), ('Temple Street & Westlake Development', 'Los Angeles, California'), ('Vintage at 7700 North Woodman Avenue', 'Downtown Los Angeles - 3rd & Alameda'), ('X Lanes Entertainment Center', 'Los Angeles, California'), ('5530 Virginia Avenue', 'Washington Blvd and 101 Freeway')]\n"
     ]
    }
   ],
   "source": [
    "result = list(zip(data1, data2))\n",
    "\n",
    "print(result)"
   ]
  },
  {
   "cell_type": "code",
   "execution_count": 133,
   "metadata": {},
   "outputs": [],
   "source": [
    "df = pd.DataFrame(result, columns=['Title', 'Location'])"
   ]
  },
  {
   "cell_type": "code",
   "execution_count": 134,
   "metadata": {},
   "outputs": [],
   "source": [
    "df.to_csv('output.csv')"
   ]
  }
 ],
 "metadata": {
  "kernelspec": {
   "display_name": "base",
   "language": "python",
   "name": "python3"
  },
  "language_info": {
   "codemirror_mode": {
    "name": "ipython",
    "version": 3
   },
   "file_extension": ".py",
   "mimetype": "text/x-python",
   "name": "python",
   "nbconvert_exporter": "python",
   "pygments_lexer": "ipython3",
   "version": "3.10.9"
  }
 },
 "nbformat": 4,
 "nbformat_minor": 2
}
